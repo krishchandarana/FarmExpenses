{
  "nbformat": 4,
  "nbformat_minor": 0,
  "metadata": {
    "kernelspec": {
      "display_name": "Python 3",
      "language": "python",
      "name": "python3"
    },
    "language_info": {
      "codemirror_mode": {
        "name": "ipython",
        "version": 3
      },
      "file_extension": ".py",
      "mimetype": "text/x-python",
      "name": "python",
      "nbconvert_exporter": "python",
      "pygments_lexer": "ipython3",
      "version": "3.7.4"
    },
    "colab": {
      "name": "Krish - IDU4U-ai-Summative Project.ipynb",
      "provenance": [],
      "collapsed_sections": []
    }
  },
  "cells": [
    {
      "cell_type": "markdown",
      "metadata": {
        "id": "BorZusklPfDi"
      },
      "source": [
        "# IDC4U-ai Summative Assignment\n",
        "\n",
        "In this assignment, you’ll be trying applying the concepts in machine learning you’ve learned so far to draw conclusions from real world data.\n",
        "\n",
        "#### PICK **ONLY ONE** OF THE FOLLOWING TO COMPLETE\n",
        "\n",
        "\n",
        "\n",
        "\n",
        "\n",
        "\n"
      ]
    },
    {
      "cell_type": "markdown",
      "metadata": {
        "id": "1eblmCMiPfDj"
      },
      "source": [
        "## Option #1 - A Linear Regression Problem\n",
        "\n",
        "Create a model to predict the farm expenses based on the following data set\n",
        "\n",
        "- Farm Expense Data set (farmExpense.txt) - ALL DATA IN THOUSANDS OF DOLLARS\n",
        "    - Column1 - # of cattle\n",
        "    - Column2 - # of calves\n",
        "    - Column3 - # of pigs\n",
        "    - Column4 - # of lambs\n",
        "    - Column5 - Expenses"
      ]
    },
    {
      "cell_type": "code",
      "metadata": {
        "id": "LyKg1DDSPfDk",
        "outputId": "d11a8ec6-52fb-4da1-dfbf-9a938badd0e9",
        "colab": {
          "base_uri": "https://localhost:8080/",
          "height": 1000
        }
      },
      "source": [
        "#-----------------WRITE YOUR CODE HERE--------------------\n",
        "import numpy as np\n",
        "from sklearn.linear_model import LinearRegression\n",
        "import matplotlib.pyplot as plt\n",
        "%matplotlib inline \n",
        "\n",
        "\n",
        "from google.colab import drive\n",
        "drive.mount('/content/drive')\n",
        "\n",
        "path = \"/content/drive/My Drive/farmExpense.txt\"\n",
        "\n",
        "x1=[]\n",
        "x2=[]\n",
        "x3=[]\n",
        "x4=[]\n",
        "y=[]\n",
        "file = open(path,\"r\")\n",
        "\n",
        "while True:\n",
        "    line = file.readline()\n",
        "    if not line:\n",
        "        break\n",
        "    else:\n",
        "        values = line.split(\",\")\n",
        "        x1.append(float(values[0]))\n",
        "        x2.append(float(values[1]))\n",
        "        x3.append(float(values[2]))\n",
        "        x4.append(float(values[3]))\n",
        "        y.append(float(values[4].rstrip(\"\\n\")))\n",
        "file.close()\n",
        "\n",
        "#the graph of each indiviual column\n",
        "plt.plot(x1, y, 'o')\n",
        "plt.show()\n",
        "plt.plot(x2, y, 'o')\n",
        "plt.show()\n",
        "plt.plot(x3, y, 'o')\n",
        "plt.show()\n",
        "plt.plot(x4, y, 'o')\n",
        "plt.show()\n",
        "\n",
        "#the graph of all the columns together\n",
        "plt.plot(x1, y, 'o')\n",
        "plt.plot(x2, y, 'o')\n",
        "plt.plot(x3, y, 'o')\n",
        "plt.plot(x4, y, 'o')\n",
        "\n",
        "x1 = np.matrix(x1).T\n",
        "x2 = np.matrix(x2).T\n",
        "x3 = np.matrix(x3).T\n",
        "x4 = np.matrix(x4).T\n",
        "\n",
        "y = np.matrix(y).T\n",
        "x = np.hstack((x1, x2, x3, x4))\n",
        "x = np.matrix(x)\n",
        "\n",
        "lm = LinearRegression()\n",
        "lm.fit(x, y)\n",
        "\n",
        "theta0 = lm.intercept_[0]\n",
        "theta1 = lm.coef_[0][0]\n",
        "theta2 = lm.coef_[0][1]\n",
        "theta3 = lm.coef_[0][2]\n",
        "theta4 = lm.coef_[0][3]\n",
        "\n",
        "\n",
        "\n",
        "\n",
        "\n",
        "\n"
      ],
      "execution_count": null,
      "outputs": [
        {
          "output_type": "stream",
          "text": [
            "Drive already mounted at /content/drive; to attempt to forcibly remount, call drive.mount(\"/content/drive\", force_remount=True).\n"
          ],
          "name": "stdout"
        },
        {
          "output_type": "display_data",
          "data": {
            "image/png": "[encoded data removed]",
            "text/plain": [
              "<Figure size 432x288 with 1 Axes>"
            ]
          },
          "metadata": {
            "tags": [],
            "needs_background": "light"
          }
        },
        {
          "output_type": "display_data",
          "data": {
            "image/png": "[encoded data removed]",
            "text/plain": [
              "<Figure size 432x288 with 1 Axes>"
            ]
          },
          "metadata": {
            "tags": [],
            "needs_background": "light"
          }
        },
        {
          "output_type": "display_data",
          "data": {
            "image/png": "[encoded data removed]",
            "text/plain": [
              "<Figure size 432x288 with 1 Axes>"
            ]
          },
          "metadata": {
            "tags": [],
            "needs_background": "light"
          }
        },
        {
          "output_type": "display_data",
          "data": {
            "image/png": "[encoded data removed]",
            "text/plain": [
              "<Figure size 432x288 with 1 Axes>"
            ]
          },
          "metadata": {
            "tags": [],
            "needs_background": "light"
          }
        },
        {
          "output_type": "display_data",
          "data": {
            "image/png": "[encoded data removed]",
            "text/plain": [
              "<Figure size 432x288 with 1 Axes>"
            ]
          },
          "metadata": {
            "tags": [],
            "needs_background": "light"
          }
        }
      ]
    },
    {
      "cell_type": "code",
      "metadata": {
        "id": "XkR-q7gXrjR_",
        "outputId": "1c88946e-7cf2-44b1-b589-549bc3e7f8c4",
        "colab": {
          "base_uri": "https://localhost:8080/",
          "height": 51
        }
      },
      "source": [
        "#Below is the line of best fit. It cannot be drawn on the graph as we are performing multi-variable regression.\n",
        "print(\"Line of best fit:\")\n",
        "print(\"y = \" + str(theta1) + \"*x1 + \" + str(theta2) + \"*x2 + \" + str(theta3) + \"*x3 + \" + str(theta4) + \"*x4 + \" + str(theta0))"
      ],
      "execution_count": null,
      "outputs": [
        {
          "output_type": "stream",
          "text": [
            "Line of best fit:\n",
            "y = 3.207844922209281*x1 + 1.6190758854546474*x2 + 0.8167555288080249*x3 + 0.8048118782943658*x4 + 2.2830504794128714\n"
          ],
          "name": "stdout"
        }
      ]
    },
    {
      "cell_type": "code",
      "metadata": {
        "id": "MVLk0oeOrj-_",
        "outputId": "61dfbc8a-b5d9-450e-c8a7-28270f777d6c",
        "colab": {
          "base_uri": "https://localhost:8080/",
          "height": 34
        }
      },
      "source": [
        "#making a prediction\n",
        "p1 = lm.predict([[15, 7, 2, 1]])\n",
        "print(str((p1) * 1000))"
      ],
      "execution_count": null,
      "outputs": [
        {
          "output_type": "stream",
          "text": [
            "[[64172.57844665]]\n"
          ],
          "name": "stdout"
        }
      ]
    },
    {
      "cell_type": "code",
      "metadata": {
        "id": "VQOebyKRrkS-",
        "outputId": "8525bc6b-f893-4e73-cfe8-6587ce888133",
        "colab": {
          "base_uri": "https://localhost:8080/",
          "height": 34
        }
      },
      "source": [
        "#printing accuracy of the model\n",
        "accuracy = lm.score(x, y)\n",
        "print(str(accuracy * 100))"
      ],
      "execution_count": null,
      "outputs": [
        {
          "output_type": "stream",
          "text": [
            "93.74461039953891\n"
          ],
          "name": "stdout"
        }
      ]
    }
  ]
}